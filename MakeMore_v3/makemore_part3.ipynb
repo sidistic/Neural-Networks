{
  "nbformat": 4,
  "nbformat_minor": 0,
  "metadata": {
    "colab": {
      "provenance": []
    },
    "kernelspec": {
      "name": "python3",
      "display_name": "Python 3"
    },
    "language_info": {
      "name": "python"
    }
  },
  "cells": [
    {
      "cell_type": "markdown",
      "source": [
        "# Makemore part 3"
      ],
      "metadata": {
        "id": "u8aBe0zUAb0F"
      }
    },
    {
      "cell_type": "code",
      "execution_count": 2,
      "metadata": {
        "id": "8ppIeEwd_iF_"
      },
      "outputs": [],
      "source": [
        "import torch\n",
        "import torch.nn.functional as F\n",
        "import matplotlib.pyplot as plt\n",
        "%matplotlib inline"
      ]
    },
    {
      "cell_type": "code",
      "source": [
        "# read in all the words\n",
        "words = open('names.txt', 'r').read().splitlines()\n",
        "words[:8]"
      ],
      "metadata": {
        "colab": {
          "base_uri": "https://localhost:8080/"
        },
        "id": "u1dazbHPAxRG",
        "outputId": "243accf0-f747-4838-f8d3-cfcd47b4a204"
      },
      "execution_count": 4,
      "outputs": [
        {
          "output_type": "execute_result",
          "data": {
            "text/plain": [
              "['emma', 'olivia', 'ava', 'isabella', 'sophia', 'charlotte', 'mia', 'amelia']"
            ]
          },
          "metadata": {},
          "execution_count": 4
        }
      ]
    },
    {
      "cell_type": "code",
      "source": [
        "len(words)"
      ],
      "metadata": {
        "colab": {
          "base_uri": "https://localhost:8080/"
        },
        "id": "lxoOV2fIBUXy",
        "outputId": "ccd44d47-c52f-4cea-944d-6f9c24e3f095"
      },
      "execution_count": 5,
      "outputs": [
        {
          "output_type": "execute_result",
          "data": {
            "text/plain": [
              "32033"
            ]
          },
          "metadata": {},
          "execution_count": 5
        }
      ]
    },
    {
      "cell_type": "code",
      "source": [
        "# build the vocabulary of characters and mappings to/from integers\n",
        "chars = sorted(list(set(''.join(words))))\n",
        "stoi = {s:i+1 for i,s in enumerate(chars)}\n",
        "stoi['.'] = 0\n",
        "itos = {i:s for s,i in stoi.items()}\n",
        "vocab_size = len(itos)\n",
        "print(itos)\n",
        "print(vocab_size)"
      ],
      "metadata": {
        "colab": {
          "base_uri": "https://localhost:8080/"
        },
        "id": "_C7oY577BWc4",
        "outputId": "9649a03e-1668-4056-b855-484de1237e2f"
      },
      "execution_count": 6,
      "outputs": [
        {
          "output_type": "stream",
          "name": "stdout",
          "text": [
            "{1: 'a', 2: 'b', 3: 'c', 4: 'd', 5: 'e', 6: 'f', 7: 'g', 8: 'h', 9: 'i', 10: 'j', 11: 'k', 12: 'l', 13: 'm', 14: 'n', 15: 'o', 16: 'p', 17: 'q', 18: 'r', 19: 's', 20: 't', 21: 'u', 22: 'v', 23: 'w', 24: 'x', 25: 'y', 26: 'z', 0: '.'}\n",
            "27\n"
          ]
        }
      ]
    },
    {
      "cell_type": "code",
      "source": [
        "#build the dataset\n",
        "block_size = 3 # context length: how many characters do we take to predict the next one?\n",
        "def build_dataset(words):\n",
        "  X, Y = [], []\n",
        "\n",
        "  for w in words:\n",
        "    context = [0]* block_size\n",
        "    for ch in w + '.':\n",
        "      ix = stoi[ch]\n",
        "      X.append(context)\n",
        "      Y.append(ix)\n",
        "      context = context[1:] + [ix] #crop and append\n",
        "\n",
        "  X = torch.tensor(X)\n",
        "  Y = torch.tensor(Y)\n",
        "  print(X.shape, Y.shape)\n",
        "  return X, Y"
      ],
      "metadata": {
        "id": "HH4XEjAeB3rT"
      },
      "execution_count": 8,
      "outputs": []
    },
    {
      "cell_type": "code",
      "source": [
        "import random\n",
        "random.seed(42)\n",
        "random.shuffle(words)\n",
        "n1 = int(0.8 * len(words))\n",
        "n2 = int(0.9 * len(words))\n",
        "\n",
        "Xtr, Ytr = build_dataset(words[:n1])      #80%\n",
        "Xdev, Ydev = build_dataset(words[n1:n2])  #10%\n",
        "Xte, Yte = build_dataset(words[n2:])      #10%"
      ],
      "metadata": {
        "colab": {
          "base_uri": "https://localhost:8080/"
        },
        "id": "1CyvBbKpDOjW",
        "outputId": "516e0c7f-df27-40d3-a071-77356054589e"
      },
      "execution_count": 9,
      "outputs": [
        {
          "output_type": "stream",
          "name": "stdout",
          "text": [
            "torch.Size([182625, 3]) torch.Size([182625])\n",
            "torch.Size([22655, 3]) torch.Size([22655])\n",
            "torch.Size([22866, 3]) torch.Size([22866])\n"
          ]
        }
      ]
    },
    {
      "cell_type": "markdown",
      "source": [
        "Neural net weights should not be very high or 0, it should be close to 0v  "
      ],
      "metadata": {
        "id": "zTcrxX0zxj2m"
      }
    },
    {
      "cell_type": "code",
      "source": [
        "# MLP revisited\n",
        "n_embd = 10 # the dimensionality of the character embedding vectors\n",
        "n_hidden = 200 # the number of neurons in the hidden layer of the MLP\n",
        "\n",
        "g = torch.Generator().manual_seed(2147483647) # for reproducability\n",
        "C = torch.randn((vocab_size, n_embd),             generator = g)\n",
        "W1 = torch.randn((n_embd * block_size, n_hidden), generator = g) * 0.25\n",
        "b1 = torch.randn(n_hidden,                        generator = g) * 0.01\n",
        "W2 = torch.randn((n_hidden, vocab_size),          generator = g) * 0.01\n",
        "b2 = torch.randn(vocab_size,                      generator = g) * 0\n",
        "\n",
        "parameters = [C, W1, b1, W2, b2]\n",
        "print(sum(p.nelement() for p in parameters)) # number of parameters in total\n",
        "for p in parameters:\n",
        "  p.requires_grad = True"
      ],
      "metadata": {
        "colab": {
          "base_uri": "https://localhost:8080/"
        },
        "id": "kJZTFgHeEFED",
        "outputId": "40e84b79-5355-4266-a5a7-7adadea24e20"
      },
      "execution_count": 41,
      "outputs": [
        {
          "output_type": "stream",
          "name": "stdout",
          "text": [
            "11897\n"
          ]
        }
      ]
    },
    {
      "cell_type": "code",
      "source": [
        "x = torch.randn(1000, 10)\n",
        "w = torch.randn(10, 200) / 10**0.5\n",
        "y = x @ w\n",
        "print(x.mean(), x.std())\n",
        "print(y.mean(), y.std())\n",
        "plt.figure(figsize = (20,5))\n",
        "plt.subplot(121)\n",
        "plt.hist(x.view(-1).tolist(), 50, density = True);\n",
        "plt.subplot(122)\n",
        "plt.hist(y.view(-1).tolist(), 50, density = True);"
      ],
      "metadata": {
        "colab": {
          "base_uri": "https://localhost:8080/",
          "height": 358
        },
        "id": "LPgSTptOPoXo",
        "outputId": "1241c8cd-d6e7-4c5d-8539-86e829e028cf"
      },
      "execution_count": 47,
      "outputs": [
        {
          "output_type": "stream",
          "name": "stdout",
          "text": [
            "tensor(-0.0031) tensor(0.9932)\n",
            "tensor(-0.0021) tensor(1.0275)\n"
          ]
        },
        {
          "output_type": "display_data",
          "data": {
            "text/plain": [
              "<Figure size 2000x500 with 2 Axes>"
            ],
            "image/png": "[encoded data removed]"
          },
          "metadata": {}
        }
      ]
    },
    {
      "cell_type": "code",
      "source": [
        "# optimization\n",
        "\n",
        "max_steps = 200000\n",
        "batch_size = 32\n",
        "lossi = []\n",
        "\n",
        "for i in range(max_steps):\n",
        "\n",
        "  # minibatch construct\n",
        "  ix = torch.randint(0, Xtr.shape[0], (batch_size, ), generator=g)\n",
        "  Xb, Yb = Xtr[ix], Ytr[ix] # batch X,Y\n",
        "\n",
        "  # forward pass\n",
        "  emb = C[Xb] # embed the character into vectors\n",
        "  embcat = emb.view(emb.shape[0], -1) # concatenate the vectors\n",
        "  hpreact = embcat @ W1 + b1 # hidden layer pre-activation\n",
        "  h = torch.tanh(hpreact) # hidden layer\n",
        "  logits = h @ W2 + b2 # output layer\n",
        "  loss = F.cross_entropy(logits, Yb) # loss function\n",
        "\n",
        "  # backward pass\n",
        "  for p in parameters:\n",
        "    p.grad = None\n",
        "  loss.backward()\n",
        "\n",
        "  # update\n",
        "  lr = 0.1 if i < 100000 else 0.01 # step learning rate decay\n",
        "  for p in parameters:\n",
        "    p.data += -lr * p.grad\n",
        "\n",
        "  # track stats\n",
        "  if i % 10000 == 0: # print every once in a while\n",
        "    print(f'{i:7d}/{max_steps:7d}: {loss.item():.4f}')\n",
        "  lossi.append(loss.log10().item())\n"
      ],
      "metadata": {
        "colab": {
          "base_uri": "https://localhost:8080/"
        },
        "id": "tQZdkpPNGPHs",
        "outputId": "501e9d91-242e-4ace-c836-107a0a162aff"
      },
      "execution_count": 27,
      "outputs": [
        {
          "output_type": "stream",
          "name": "stdout",
          "text": [
            "      0/ 200000: 3.3158\n",
            "  10000/ 200000: 2.1775\n",
            "  20000/ 200000: 2.3413\n",
            "  30000/ 200000: 2.4828\n",
            "  40000/ 200000: 1.9631\n",
            "  50000/ 200000: 2.3822\n",
            "  60000/ 200000: 2.3312\n",
            "  70000/ 200000: 2.0833\n",
            "  80000/ 200000: 2.3685\n",
            "  90000/ 200000: 2.1162\n",
            " 100000/ 200000: 1.8477\n",
            " 110000/ 200000: 2.1269\n",
            " 120000/ 200000: 1.9425\n",
            " 130000/ 200000: 2.4488\n",
            " 140000/ 200000: 2.1166\n",
            " 150000/ 200000: 2.1939\n",
            " 160000/ 200000: 1.7861\n",
            " 170000/ 200000: 1.8033\n",
            " 180000/ 200000: 1.9654\n",
            " 190000/ 200000: 1.8594\n"
          ]
        }
      ]
    },
    {
      "cell_type": "code",
      "source": [
        "plt.figure(figsize=(20,10));\n",
        "plt.imshow(h.abs() > 0.99, cmap='gray', interpolation='nearest');"
      ],
      "metadata": {
        "colab": {
          "base_uri": "https://localhost:8080/",
          "height": 57
        },
        "id": "5lNV_6eeLDnV",
        "outputId": "d8f1bfd5-73d4-4c93-ee3c-e9c8bc121061"
      },
      "execution_count": 46,
      "outputs": [
        {
          "output_type": "display_data",
          "data": {
            "text/plain": [
              "<Figure size 2000x1000 with 1 Axes>"
            ],
            "image/png": "[encoded data removed]"
          },
          "metadata": {}
        }
      ]
    },
    {
      "cell_type": "code",
      "source": [
        "plt.hist(h.view(-1).tolist(), 50);"
      ],
      "metadata": {
        "colab": {
          "base_uri": "https://localhost:8080/",
          "height": 430
        },
        "id": "VmSvpjqkIgng",
        "outputId": "a7026f0b-e87e-4372-dbc1-0338cab02053"
      },
      "execution_count": 44,
      "outputs": [
        {
          "output_type": "display_data",
          "data": {
            "text/plain": [
              "<Figure size 640x480 with 1 Axes>"
            ],
            "image/png": "[encoded data removed]"
          },
          "metadata": {}
        }
      ]
    },
    {
      "cell_type": "markdown",
      "source": [
        "We can see that the initial loss is too high. We should fix this"
      ],
      "metadata": {
        "id": "IO3vLUvMv9QS"
      }
    },
    {
      "cell_type": "code",
      "source": [
        "# expected initial loss\n",
        "-torch.tensor(1/27.0).log()"
      ],
      "metadata": {
        "colab": {
          "base_uri": "https://localhost:8080/"
        },
        "id": "QUKdXtd9v6S5",
        "outputId": "183ca012-da2c-4801-9844-b3b92dfbff03"
      },
      "execution_count": 36,
      "outputs": [
        {
          "output_type": "execute_result",
          "data": {
            "text/plain": [
              "tensor(3.2958)"
            ]
          },
          "metadata": {},
          "execution_count": 36
        }
      ]
    },
    {
      "cell_type": "code",
      "source": [
        "plt.plot(lossi)"
      ],
      "metadata": {
        "colab": {
          "base_uri": "https://localhost:8080/",
          "height": 447
        },
        "id": "e8T89gBpK4QW",
        "outputId": "3dc275c3-6389-48e0-f700-04f0d655e9ee"
      },
      "execution_count": 37,
      "outputs": [
        {
          "output_type": "execute_result",
          "data": {
            "text/plain": [
              "[<matplotlib.lines.Line2D at 0x7e54597eb280>]"
            ]
          },
          "metadata": {},
          "execution_count": 37
        },
        {
          "output_type": "display_data",
          "data": {
            "text/plain": [
              "<Figure size 640x480 with 1 Axes>"
            ],
            "image/png": "[encoded data removed]"
          },
          "metadata": {}
        }
      ]
    },
    {
      "cell_type": "code",
      "source": [
        "@torch.no_grad() # this decorator disables gradient tracking\n",
        "\n",
        "def split_loss(split):\n",
        "  x, y = {\n",
        "      'train': (Xtr, Ytr),\n",
        "      'val': (Xdev, Ydev),\n",
        "      'test': (Xte, Yte),\n",
        "  }[split]\n",
        "\n",
        "  emb = C[x] # (N, block_size, n_embd)\n",
        "  embcat = emb.view(emb.shape[0], -1) # concat into (N, block_size * n_embd)\n",
        "  h = torch.tanh(embcat @ W1 + b1) # (N, n_hidden)\n",
        "  logits = h @ W2 + b2 # (N, vocab_size)\n",
        "  loss = F.cross_entropy(logits, y)\n",
        "  print(split, loss.item())\n",
        "\n",
        "split_loss('train')\n",
        "split_loss('val')"
      ],
      "metadata": {
        "colab": {
          "base_uri": "https://localhost:8080/"
        },
        "id": "1VI6_A3TK6x3",
        "outputId": "760e01b8-3d80-43b7-e484-43acc2bfd94a"
      },
      "execution_count": 38,
      "outputs": [
        {
          "output_type": "stream",
          "name": "stdout",
          "text": [
            "train 2.0362093448638916\n",
            "val 2.1033272743225098\n"
          ]
        }
      ]
    },
    {
      "cell_type": "code",
      "source": [
        "# Sample from the model\n",
        "g = torch.Generator().manual_seed(2147483647 + 10)\n",
        "\n",
        "for _ in range(20):\n",
        "\n",
        "  out = []\n",
        "  context = [0] * block_size # initialize with all...\n",
        "  while True:\n",
        "    #forward pass the neural net\n",
        "    emb = C[torch.tensor([context])] # (1, block_size, n_embd)\n",
        "    h = torch.tanh(emb.view(1, -1) @ W1 + b1)\n",
        "    logits = h @ W2 + b2\n",
        "    probs = F.softmax(logits, dim = 1)\n",
        "    # sample from the distribution\n",
        "    ix = torch.multinomial(probs, num_samples = 1, generator=g).item()\n",
        "    # shift the context window and track the samples\n",
        "    context = context[1:] + [ix]\n",
        "    out.append(ix)\n",
        "    # if we sample the special '.' token, break\n",
        "    if ix == 0:\n",
        "      break\n",
        "\n",
        "  print(''.join(itos[i] for i in out)) # decode and print the generated word"
      ],
      "metadata": {
        "colab": {
          "base_uri": "https://localhost:8080/"
        },
        "id": "21T2uDJhLGCw",
        "outputId": "f961e8bc-f684-42a1-e485-f34d58a16f64"
      },
      "execution_count": 39,
      "outputs": [
        {
          "output_type": "stream",
          "name": "stdout",
          "text": [
            "mon.\n",
            "ammyah.\n",
            "see.\n",
            "med.\n",
            "ryllorethruthadrie.\n",
            "cadelydielin.\n",
            "shi.\n",
            "jen.\n",
            "eden.\n",
            "estanar.\n",
            "kayzion.\n",
            "kamin.\n",
            "shubergihirael.\n",
            "kinde.\n",
            "jennex.\n",
            "terian.\n",
            "brence.\n",
            "ryyah.\n",
            "fael.\n",
            "yuva.\n"
          ]
        }
      ]
    },
    {
      "cell_type": "markdown",
      "source": [
        "Kaiming init is the best way to initialize a neural network"
      ],
      "metadata": {
        "id": "CkF37VgHCPSn"
      }
    },
    {
      "cell_type": "code",
      "source": [],
      "metadata": {
        "id": "74KNEY4xIYvr"
      },
      "execution_count": 33,
      "outputs": []
    }
  ]
}